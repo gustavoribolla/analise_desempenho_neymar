{
 "cells": [
  {
   "cell_type": "code",
   "execution_count": 72,
   "metadata": {},
   "outputs": [],
   "source": [
    "import pandas as pd\n",
    "import scipy.stats as st\n",
    "import numpy as np"
   ]
  },
  {
   "cell_type": "code",
   "execution_count": 73,
   "metadata": {},
   "outputs": [],
   "source": [
    "df_ney = pd.read_csv('neymar_europa.csv')"
   ]
  },
  {
   "cell_type": "code",
   "execution_count": 74,
   "metadata": {},
   "outputs": [
    {
     "name": "stdout",
     "output_type": "stream",
     "text": [
      "[32, 49, 56, 47, 57, 34, 30, 30, 43, 40]\n"
     ]
    }
   ],
   "source": [
    "gols_assist = []\n",
    "for participacao in df_ney['participacoes']:\n",
    "    gols_assist.append(participacao)\n",
    "print(gols_assist)"
   ]
  },
  {
   "cell_type": "code",
   "execution_count": 75,
   "metadata": {},
   "outputs": [
    {
     "name": "stdout",
     "output_type": "stream",
     "text": [
      "41.8\n",
      "10.282671507606052\n",
      "105.73333333333333\n"
     ]
    }
   ],
   "source": [
    "mu = df_ney['participacoes'].mean()\n",
    "dp = df_ney['participacoes'].std()\n",
    "var = df_ney['participacoes'].var()\n",
    "\n",
    "print(mu)\n",
    "print(dp)\n",
    "print(var)"
   ]
  },
  {
   "cell_type": "code",
   "execution_count": 77,
   "metadata": {},
   "outputs": [
    {
     "name": "stdout",
     "output_type": "stream",
     "text": [
      "O intervalo de confiança é entre 35.42685128076611 e 48.173148719233886\n"
     ]
    }
   ],
   "source": [
    "\n",
    "mu = df_ney['participacoes'].mean()\n",
    "sigma = (df_ney['participacoes'].std())/(np.sqrt(len(df_ney)))\n",
    "\n",
    "a = st.norm.ppf(0.025, loc=mu, scale=sigma)\n",
    "b = st.norm.ppf(1-0.025, loc=mu, scale=sigma)\n",
    "print(f\"O intervalo de confiança é entre {a} e {b}\")"
   ]
  }
 ],
 "metadata": {
  "kernelspec": {
   "display_name": ".venv",
   "language": "python",
   "name": "python3"
  },
  "language_info": {
   "codemirror_mode": {
    "name": "ipython",
    "version": 3
   },
   "file_extension": ".py",
   "mimetype": "text/x-python",
   "name": "python",
   "nbconvert_exporter": "python",
   "pygments_lexer": "ipython3",
   "version": "3.11.4"
  }
 },
 "nbformat": 4,
 "nbformat_minor": 2
}
