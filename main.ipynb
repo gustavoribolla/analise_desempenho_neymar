{
 "cells": [
  {
   "cell_type": "code",
   "execution_count": 11,
   "metadata": {},
   "outputs": [],
   "source": [
    "import pandas as pd\n",
    "import scipy.stats as st\n",
    "import numpy as np"
   ]
  },
  {
   "cell_type": "code",
   "execution_count": 12,
   "metadata": {},
   "outputs": [],
   "source": [
    "df_ney = pd.read_csv('neymar_europa.csv')"
   ]
  },
  {
   "cell_type": "code",
   "execution_count": 13,
   "metadata": {},
   "outputs": [
    {
     "name": "stdout",
     "output_type": "stream",
     "text": [
      "[32, 49, 56, 47, 57, 34, 30, 30, 43, 40]\n"
     ]
    }
   ],
   "source": [
    "gols_assist = []\n",
    "for participacao in df_ney['participacoes']:\n",
    "    gols_assist.append(participacao)\n",
    "print(gols_assist)"
   ]
  },
  {
   "cell_type": "code",
   "execution_count": 14,
   "metadata": {},
   "outputs": [
    {
     "name": "stdout",
     "output_type": "stream",
     "text": [
      "41.8\n",
      "10.282671507606052\n",
      "105.73333333333333\n"
     ]
    }
   ],
   "source": [
    "mu = df_ney['participacoes'].mean()\n",
    "dp = df_ney['participacoes'].std()\n",
    "var = df_ney['participacoes'].var()\n",
    "\n",
    "print(mu)\n",
    "print(dp)\n",
    "print(var)"
   ]
  },
  {
   "cell_type": "code",
   "execution_count": 16,
   "metadata": {},
   "outputs": [
    {
     "name": "stdout",
     "output_type": "stream",
     "text": [
      "Intervalo de Confiança para a média de gols de Neymar: (35.753900254070786, 47.84609974592921)\n"
     ]
    }
   ],
   "source": [
    "media_gols = np.mean(df_ney['participacoes'])\n",
    "variancia_gols = np.var(df_ney['participacoes'])\n",
    "variancia_normal = variancia_gols / len(df_ney['participacoes'])\n",
    "alpha = 0.05 \n",
    "z = st.norm.ppf(1 - alpha / 2)  \n",
    "intervalo_confianca = (media_gols - z * np.sqrt(variancia_normal),media_gols + z * np.sqrt(variancia_normal))\n",
    "\n",
    "print(f\"Intervalo de Confiança para a média de gols de Neymar: {intervalo_confianca}\")"
   ]
  },
  {
   "cell_type": "code",
   "execution_count": 19,
   "metadata": {},
   "outputs": [
    {
     "name": "stdout",
     "output_type": "stream",
     "text": [
      "Intervalo de confiança para lambda: (37.79284416693068, 45.80715583306932)\n"
     ]
    }
   ],
   "source": [
    "lambda_barra = np.mean(df_ney['participacoes'])\n",
    "variancia_lambda_barra = lambda_barra / len(df_ney['participacoes'])\n",
    "nivel_confianca = 0.95\n",
    "z = st.norm.ppf((1 + nivel_confianca) / 2)\n",
    "limite_inferior = lambda_barra - z * np.sqrt(variancia_lambda_barra)\n",
    "limite_superior = lambda_barra + z * np.sqrt(variancia_lambda_barra)\n",
    "\n",
    "print(f\"Intervalo de confiança para lambda: ({limite_inferior}, {limite_superior})\")"
   ]
  }
 ],
 "metadata": {
  "kernelspec": {
   "display_name": ".venv",
   "language": "python",
   "name": "python3"
  },
  "language_info": {
   "codemirror_mode": {
    "name": "ipython",
    "version": 3
   },
   "file_extension": ".py",
   "mimetype": "text/x-python",
   "name": "python",
   "nbconvert_exporter": "python",
   "pygments_lexer": "ipython3",
   "version": "3.11.4"
  }
 },
 "nbformat": 4,
 "nbformat_minor": 2
}
